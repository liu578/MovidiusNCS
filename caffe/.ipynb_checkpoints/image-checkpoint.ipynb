{
 "cells": [
  {
   "cell_type": "code",
   "execution_count": 1,
   "metadata": {},
   "outputs": [],
   "source": [
    "# from mvnc import mvncapi as mvnc\n",
    "# import numpy as np\n",
    "# import cv2\n",
    "\n",
    "# GRAPH = 'voc/graph/graph'\n",
    "# IMAGE = 'images/000542.jpg'\n",
    "# CLASSES = ('background','aeroplane', 'bicycle', 'bird', 'boat',\n",
    "#            'bottle', 'bus', 'car', 'cat', 'chair',\n",
    "#            'cow', 'diningtable', 'dog', 'horse',\n",
    "#            'motorbike', 'person', 'pottedplant',\n",
    "#            'sheep', 'sofa', 'train', 'tvmonitor')\n",
    "\n",
    "\n",
    "# input_size = (300,300)\n",
    "# #discover our device \n",
    "# devices = mvnc.EnumerateDevices()\n",
    "# # print(len(devices),devices)\n",
    "# device = mvnc.Device(devices[0])\n",
    "# # device.OpenDevice()\n",
    "\n",
    "\n",
    "# #load graph onto the device\n",
    "# with open(GRAPH,'rb')as f:\n",
    "#     graph_file = f.read()\n",
    "# # graph = device.AllocateGraph(graph_file)\n",
    "# # graph\n",
    "\n",
    "# #image preprocessing\n",
    "# def preprocess(src):\n",
    "#     img = cv2.resize(src, input_size)\n",
    "#     img = img - 127.5\n",
    "#     img = img * 0.007843\n",
    "#     return img.astype(np.float16)\n",
    "\n",
    "# #graph => load the iamge to it,return a prediction\n",
    "# capture = cv2.VideoCapture(0)\n",
    "# _,image = capture.read()\n",
    "\n",
    "# image = cv2.imread(IMAGE)\n",
    "# height,width = image.shape[:2]\n",
    "# # print(height,width)\n",
    "# # h_factor = height/input_size[0]\n",
    "# # w_factor = width/input_size[1]\n",
    "\n",
    "# while True:\n",
    "#     _,image = capture.read()\n",
    "#     image_pro = preprocess(image)\n",
    "#     # print(image_pro.shape[:2])\n",
    "#     graph.LoadTensor(image_pro,None)\n",
    "#     output,_ = graph.GetResult()\n",
    "#     # plt.imshow(image)\n",
    "#     # plt.show\n",
    "#     valid_boxes = int(output[0])\n",
    "#     # output\n",
    "#     for i in range(7,7*(1+valid_boxes),7):\n",
    "#         clss = CLASSES[int(output[i+1])]\n",
    "#         conf = output[i+2]\n",
    "#         x1 = max(0,int(output[i+3] * width))\n",
    "#         y1 = max(0,int(output[i+4] * height))\n",
    "#         x2 = max(width,int(output[i+5] * width))\n",
    "#         y2 = max(height,int(output[i+6] * height))\n",
    "\n",
    "#         label = '{}:{:.0f}%'.format(clss,conf*100)\n",
    "#         image = cv2.rectangle(image,(x1,y1),(x2,y2),(0,255,0),3)\n",
    "#         image = cv2.putText(image,label,(x1-5,y1-5),cv2.FONT_HERSHEY_SCRIPT_SIMPLEX,1,(0,255,0),5)\n",
    "# #         print(clss,conf)\n",
    "#     cv2.imshow('frame',image)\n",
    "#     if cv2.waitKey(1)&0xff == ord('q'):\n",
    "#         break\n",
    "# capture.release()\n",
    "# cv2.destroyAllWindows()\n",
    "# device.CloseDevice()\n",
    "    \n"
   ]
  },
  {
   "cell_type": "code",
   "execution_count": 2,
   "metadata": {},
   "outputs": [],
   "source": [
    "from mvnc import mvncapi as mvnc\n",
    "import numpy as np\n",
    "import cv2\n",
    "import matplotlib.pyplot as plt\n"
   ]
  },
  {
   "cell_type": "code",
   "execution_count": 3,
   "metadata": {},
   "outputs": [],
   "source": [
    "GRAPH = 'graph_caffe'\n",
    "IMAGE = 'images/000456.jpg'\n",
    "CLASSES = ('background',\n",
    "           'aeroplane', 'bicycle', 'bird', 'boat',\n",
    "           'bottle', 'bus', 'car', 'cat', 'chair',\n",
    "           'cow', 'diningtable', 'dog', 'horse',\n",
    "           'motorbike', 'person', 'pottedplant',\n",
    "           'sheep', 'sofa', 'train', 'tvmonitor')\n",
    "\n",
    "input_size = (300,300)\n"
   ]
  },
  {
   "cell_type": "code",
   "execution_count": 4,
   "metadata": {},
   "outputs": [],
   "source": [
    "#discover our device \n",
    "devices = mvnc.EnumerateDevices()\n",
    "# print(len(devices),devices)\n",
    "device = mvnc.Device(devices[0])\n",
    "device.OpenDevice()\n"
   ]
  },
  {
   "cell_type": "code",
   "execution_count": 5,
   "metadata": {},
   "outputs": [
    {
     "data": {
      "text/plain": [
       "<mvnc.mvncapi.Graph at 0x7f3738671128>"
      ]
     },
     "execution_count": 5,
     "metadata": {},
     "output_type": "execute_result"
    }
   ],
   "source": [
    "#load graph onto the device\n",
    "with open(GRAPH,'rb')as f:\n",
    "    graph_file = f.read()\n",
    "graph = device.AllocateGraph(graph_file)\n",
    "graph"
   ]
  },
  {
   "cell_type": "code",
   "execution_count": 6,
   "metadata": {},
   "outputs": [],
   "source": [
    "#image preprocessing\n",
    "def preprocess(src):\n",
    "    img = cv2.resize(src, input_size)\n",
    "    img = img - 127.5\n",
    "    img = img * 0.007843\n",
    "    return img.astype(np.float16)\n"
   ]
  },
  {
   "cell_type": "code",
   "execution_count": 7,
   "metadata": {},
   "outputs": [
    {
     "ename": "NameError",
     "evalue": "name 'y' is not defined",
     "output_type": "error",
     "traceback": [
      "\u001b[0;31m---------------------------------------------------------------------------\u001b[0m",
      "\u001b[0;31mNameError\u001b[0m                                 Traceback (most recent call last)",
      "\u001b[0;32m<ipython-input-7-d67ec9c16c0c>\u001b[0m in \u001b[0;36m<module>\u001b[0;34m\u001b[0m\n\u001b[1;32m     24\u001b[0m     \u001b[0mlabel\u001b[0m \u001b[0;34m=\u001b[0m \u001b[0;34m'{}:{:.0f}%'\u001b[0m\u001b[0;34m.\u001b[0m\u001b[0mformat\u001b[0m\u001b[0;34m(\u001b[0m\u001b[0mclss\u001b[0m\u001b[0;34m,\u001b[0m\u001b[0mconf\u001b[0m\u001b[0;34m*\u001b[0m\u001b[0;36m100\u001b[0m\u001b[0;34m)\u001b[0m\u001b[0;34m\u001b[0m\u001b[0m\n\u001b[1;32m     25\u001b[0m     \u001b[0mimage\u001b[0m \u001b[0;34m=\u001b[0m \u001b[0mcv2\u001b[0m\u001b[0;34m.\u001b[0m\u001b[0mrectangle\u001b[0m\u001b[0;34m(\u001b[0m\u001b[0mimage\u001b[0m\u001b[0;34m,\u001b[0m\u001b[0;34m(\u001b[0m\u001b[0mx1\u001b[0m\u001b[0;34m,\u001b[0m\u001b[0my1\u001b[0m\u001b[0;34m)\u001b[0m\u001b[0;34m,\u001b[0m\u001b[0;34m(\u001b[0m\u001b[0mx2\u001b[0m\u001b[0;34m,\u001b[0m\u001b[0my2\u001b[0m\u001b[0;34m)\u001b[0m\u001b[0;34m,\u001b[0m\u001b[0;34m(\u001b[0m\u001b[0;36m0\u001b[0m\u001b[0;34m,\u001b[0m\u001b[0;36m255\u001b[0m\u001b[0;34m,\u001b[0m\u001b[0;36m0\u001b[0m\u001b[0;34m)\u001b[0m\u001b[0;34m,\u001b[0m\u001b[0;36m3\u001b[0m\u001b[0;34m)\u001b[0m\u001b[0;34m\u001b[0m\u001b[0m\n\u001b[0;32m---> 26\u001b[0;31m     \u001b[0mimage\u001b[0m \u001b[0;34m=\u001b[0m \u001b[0mcv2\u001b[0m\u001b[0;34m.\u001b[0m\u001b[0mputText\u001b[0m\u001b[0;34m(\u001b[0m\u001b[0mimage\u001b[0m\u001b[0;34m,\u001b[0m\u001b[0mlabel\u001b[0m\u001b[0;34m,\u001b[0m\u001b[0;34m(\u001b[0m\u001b[0mx1\u001b[0m\u001b[0;34m-\u001b[0m\u001b[0;36m5\u001b[0m\u001b[0;34m,\u001b[0m\u001b[0my\u001b[0m\u001b[0;34m)\u001b[0m\u001b[0;34m,\u001b[0m\u001b[0mcv2\u001b[0m\u001b[0;34m.\u001b[0m\u001b[0mFONT_HERSHEY_SIMPLEX\u001b[0m\u001b[0;34m,\u001b[0m\u001b[0;36m0.8\u001b[0m\u001b[0;34m,\u001b[0m\u001b[0mcolor\u001b[0m\u001b[0;34m,\u001b[0m\u001b[0;36m2\u001b[0m\u001b[0;34m)\u001b[0m\u001b[0;34m\u001b[0m\u001b[0m\n\u001b[0m\u001b[1;32m     27\u001b[0m     \u001b[0mprint\u001b[0m\u001b[0;34m(\u001b[0m\u001b[0mclss\u001b[0m\u001b[0;34m,\u001b[0m\u001b[0mconf\u001b[0m\u001b[0;34m)\u001b[0m\u001b[0;34m\u001b[0m\u001b[0m\n\u001b[1;32m     28\u001b[0m \u001b[0mget_ipython\u001b[0m\u001b[0;34m(\u001b[0m\u001b[0;34m)\u001b[0m\u001b[0;34m.\u001b[0m\u001b[0mrun_line_magic\u001b[0m\u001b[0;34m(\u001b[0m\u001b[0;34m'matplotlib'\u001b[0m\u001b[0;34m,\u001b[0m \u001b[0;34m'notebook'\u001b[0m\u001b[0;34m)\u001b[0m\u001b[0;34m\u001b[0m\u001b[0m\n",
      "\u001b[0;31mNameError\u001b[0m: name 'y' is not defined"
     ]
    }
   ],
   "source": [
    "#graph => load the iamge to it,return a prediction\n",
    "image = cv2.imread(IMAGE)\n",
    "height,width = image.shape[:2]\n",
    "# print(height,width)\n",
    "# h_factor = height/input_size[0]\n",
    "# w_factor = width/input_size[1]\n",
    "\n",
    "image_pro = preprocess(image)\n",
    "# print(image_pro.shape[:2])\n",
    "graph.LoadTensor(image_pro,None)\n",
    "output,_ = graph.GetResult()\n",
    "# plt.imshow(image)\n",
    "# plt.show\n",
    "valid_boxes = int(output[0])\n",
    "# print(output.shape)\n",
    "for i in range(7,7*(1+valid_boxes),7):\n",
    "    clss = CLASSES[int(output[i+1])]\n",
    "    conf = output[i+2]\n",
    "    x1 = max(0,int(output[i+3] * width))\n",
    "    y1 = max(0,int(output[i+4] * height))\n",
    "    x2 = max(width,int(output[i+5] * width))\n",
    "    y2 = max(height,int(output[i+6] * height))\n",
    "\n",
    "    label = '{}:{:.0f}%'.format(clss,conf*100)\n",
    "    image = cv2.rectangle(image,(x1,y1),(x2,y2),(0,255,0),3)\n",
    "    image = cv2.putText(image,label,(x1-5,y1-5),cv2.FONT_HERSHEY_SIMPLEX,0.8,(0,255,0),2)\n",
    "#     image,label,(x1-5,y),cv2.FONT_HERSHEY_SIMPLEX,0.8,color,2\n",
    "    print(clss,conf)\n",
    "%matplotlib notebook\n",
    "plt.imshow(image)\n",
    "plt.show"
   ]
  },
  {
   "cell_type": "code",
   "execution_count": null,
   "metadata": {},
   "outputs": [],
   "source": [
    "#post processing\n",
    "device.CloseDevice()"
   ]
  }
 ],
 "metadata": {
  "kernelspec": {
   "display_name": "Python 3",
   "language": "python",
   "name": "python3"
  },
  "language_info": {
   "codemirror_mode": {
    "name": "ipython",
    "version": 3
   },
   "file_extension": ".py",
   "mimetype": "text/x-python",
   "name": "python",
   "nbconvert_exporter": "python",
   "pygments_lexer": "ipython3",
   "version": "3.5.2"
  }
 },
 "nbformat": 4,
 "nbformat_minor": 2
}
